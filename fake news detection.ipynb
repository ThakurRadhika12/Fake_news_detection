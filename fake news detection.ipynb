{
 "cells": [
  {
   "cell_type": "markdown",
   "id": "a2b731f8",
   "metadata": {},
   "source": [
    "# Fake News Detection"
   ]
  },
  {
   "cell_type": "markdown",
   "id": "7c7492e1-1cc5-4ba4-b6e3-eb7303716c0c",
   "metadata": {},
   "source": [
    "### The dataset I am using here for the fake news detection task has data about the news title, news content, and a column known as label that shows whether the news is fake or real. So we can use this dataset to find relationships between fake and real news headlines to understand what type of headlines are in most fake news. So let’s import the necessary Python libraries and the dataset that we need for this task:\n",
    "\n"
   ]
  },
  {
   "cell_type": "code",
   "execution_count": 1,
   "id": "0e66cfe3-a816-4c0e-9893-085a5493c50a",
   "metadata": {},
   "outputs": [],
   "source": [
    "import pandas as pd\n",
    "import numpy as np\n",
    "from sklearn.feature_extraction.text import CountVectorizer\n",
    "from sklearn.model_selection import train_test_split\n",
    "from sklearn.naive_bayes import MultinomialNB\n"
   ]
  },
  {
   "cell_type": "code",
   "execution_count": 2,
   "id": "0ab8403e-d40d-4dcc-a891-bc26738040c8",
   "metadata": {},
   "outputs": [
    {
     "name": "stdout",
     "output_type": "stream",
     "text": [
      "   Unnamed: 0                                              title  \\\n",
      "0        8476                       You Can Smell Hillary’s Fear   \n",
      "1       10294  Watch The Exact Moment Paul Ryan Committed Pol...   \n",
      "2        3608        Kerry to go to Paris in gesture of sympathy   \n",
      "3       10142  Bernie supporters on Twitter erupt in anger ag...   \n",
      "4         875   The Battle of New York: Why This Primary Matters   \n",
      "\n",
      "                                                text label  \n",
      "0  Daniel Greenfield, a Shillman Journalism Fello...  FAKE  \n",
      "1  Google Pinterest Digg Linkedin Reddit Stumbleu...  FAKE  \n",
      "2  U.S. Secretary of State John F. Kerry said Mon...  REAL  \n",
      "3  — Kaydee King (@KaydeeKing) November 9, 2016 T...  FAKE  \n",
      "4  It's primary day in New York and front-runners...  REAL  \n"
     ]
    }
   ],
   "source": [
    "data=pd.read_csv(\"fake_or_real_news.csv\")\n",
    "\n",
    "print(data.head())"
   ]
  },
  {
   "cell_type": "code",
   "execution_count": 41,
   "id": "896fefee-2f42-4158-912a-58ee936476fa",
   "metadata": {},
   "outputs": [
    {
     "data": {
      "text/plain": [
       "0    FAKE\n",
       "1    FAKE\n",
       "2    REAL\n",
       "3    FAKE\n",
       "4    REAL\n",
       "Name: label, dtype: object"
      ]
     },
     "execution_count": 41,
     "metadata": {},
     "output_type": "execute_result"
    }
   ],
   "source": [
    "labels=data.label\n",
    "labels.head()"
   ]
  },
  {
   "cell_type": "code",
   "execution_count": 27,
   "id": "57fed4e9-0c28-49a5-a91a-e6040ff89821",
   "metadata": {},
   "outputs": [],
   "source": [
    "x=np.array(data[\"title\"])\n",
    "y=np.array(data[\"label\"])\n",
    "\n",
    "cv=CountVectorizer()\n",
    "x=cv.fit_transform(x)"
   ]
  },
  {
   "cell_type": "markdown",
   "id": "3b777b3a-a391-4aa8-88b8-b3902fffda86",
   "metadata": {},
   "source": [
    "### Now lets separate the dataset into training and testing sets,and then here i used the multinomial Naive Bayes algorithm to train the fake news detection model."
   ]
  },
  {
   "cell_type": "code",
   "execution_count": 28,
   "id": "8213e605-5d49-4d36-ad1e-cc11c629fef4",
   "metadata": {},
   "outputs": [
    {
     "name": "stdout",
     "output_type": "stream",
     "text": [
      "0.8074191002367798\n"
     ]
    }
   ],
   "source": [
    "xtrain ,xtest, ytrain, ytest = train_test_split(x,y,test_size=0.2,random_state=42)\n",
    "model = MultinomialNB()\n",
    "model.fit(xtrain , ytrain)\n",
    "print(model.score(xtest,ytest))"
   ]
  },
  {
   "cell_type": "markdown",
   "id": "4e970d2f-b1b0-4c7e-ac46-18c1b65832e4",
   "metadata": {},
   "source": [
    "### So for test this model,i write the title of any news item found on google news to see if our model predicts that the news is real or not."
   ]
  },
  {
   "cell_type": "code",
   "execution_count": 32,
   "id": "50b831c6-473a-4e8c-b27f-5ddf5bb15170",
   "metadata": {},
   "outputs": [
    {
     "name": "stdout",
     "output_type": "stream",
     "text": [
      "['REAL']\n"
     ]
    }
   ],
   "source": [
    "new_headline=\"CA exams 2021: Supreme Courtasks ICAI to extend opt-out option for july exams ,final order tomorrow\"\n",
    "data=cv.transform([new_headline]).toarray()\n",
    "print(model.predict(data))"
   ]
  },
  {
   "cell_type": "markdown",
   "id": "332a5cdf-c2a2-4a76-8019-1558364477ea",
   "metadata": {},
   "source": [
    "### Now i write a random fake news to see if the model predicts the news is fake or not."
   ]
  },
  {
   "cell_type": "code",
   "execution_count": 33,
   "id": "8a92f18e-d0bf-4ee4-812a-fc0757b52358",
   "metadata": {},
   "outputs": [
    {
     "name": "stdout",
     "output_type": "stream",
     "text": [
      "['FAKE']\n"
     ]
    }
   ],
   "source": [
    "news_headline=\"Cow dung can cure Corona vircus\"\n",
    "data=cv.transform([news_headline]).toarray()\n",
    "print(model.predict(data))"
   ]
  },
  {
   "cell_type": "code",
   "execution_count": null,
   "id": "3d26a0a0-4e9c-4bc2-ba8b-1d096734ae93",
   "metadata": {},
   "outputs": [],
   "source": []
  }
 ],
 "metadata": {
  "kernelspec": {
   "display_name": "Python 3 (ipykernel)",
   "language": "python",
   "name": "python3"
  },
  "language_info": {
   "codemirror_mode": {
    "name": "ipython",
    "version": 3
   },
   "file_extension": ".py",
   "mimetype": "text/x-python",
   "name": "python",
   "nbconvert_exporter": "python",
   "pygments_lexer": "ipython3",
   "version": "3.10.9"
  },
  "toc-autonumbering": true,
  "toc-showcode": true,
  "toc-showmarkdowntxt": true,
  "toc-showtags": true
 },
 "nbformat": 4,
 "nbformat_minor": 5
}
